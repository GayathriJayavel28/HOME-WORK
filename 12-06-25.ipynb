{
 "cells": [
  {
   "cell_type": "code",
   "execution_count": null,
   "id": "6f1dac04-48b1-4d09-a60b-2442befa4757",
   "metadata": {},
   "outputs": [],
   "source": [
    "#LOOP FOR\n",
    "\n",
    "for i in range(5):\n",
    "    print(i)"
   ]
  },
  {
   "cell_type": "code",
   "execution_count": null,
   "id": "e8e2d716-63e9-4564-b57d-d8ac581e9d82",
   "metadata": {},
   "outputs": [],
   "source": [
    "for i in range(1,5):\n",
    "    print(i)"
   ]
  },
  {
   "cell_type": "code",
   "execution_count": null,
   "id": "63e7d568-5e89-4765-b280-cea089a7f0ab",
   "metadata": {},
   "outputs": [],
   "source": [
    "for i in range(0,5,2):\n",
    "    print(i)"
   ]
  },
  {
   "cell_type": "code",
   "execution_count": null,
   "id": "b1845f9c-c899-4cff-a890-f5db6fe77ee0",
   "metadata": {},
   "outputs": [],
   "source": [
    "#2ND TABLE\n",
    "\n",
    "for i in range(1,11):\n",
    "    print(i,'x2=',i*2)"
   ]
  },
  {
   "cell_type": "code",
   "execution_count": null,
   "id": "7561e72b-e5e9-4ae3-8564-dc01d8fdc37f",
   "metadata": {},
   "outputs": [],
   "source": [
    "# 5TH TABLES\n",
    "\n",
    "for i in range(1,11):\n",
    "    print(i,'x5=',i*5)"
   ]
  },
  {
   "cell_type": "code",
   "execution_count": null,
   "id": "2633b66a-c973-41a4-80a0-de9e7c7e0ba7",
   "metadata": {},
   "outputs": [],
   "source": [
    "#EVEN\n",
    "\n",
    "for i in range(20):\n",
    "    if i%2==0:\n",
    "        print(i)"
   ]
  },
  {
   "cell_type": "code",
   "execution_count": null,
   "id": "3c644c2f-c610-42a9-83a4-8a08d5073a70",
   "metadata": {},
   "outputs": [],
   "source": [
    "#ODD\n",
    "\n",
    "for i in range(20):\n",
    "    if i%2!=0:\n",
    "        print(i)"
   ]
  },
  {
   "cell_type": "code",
   "execution_count": 7,
   "id": "cb11a1da-e63f-47e7-991a-dabd2f401c64",
   "metadata": {},
   "outputs": [
    {
     "name": "stdout",
     "output_type": "stream",
     "text": [
      "5\n"
     ]
    }
   ],
   "source": [
    "#how many times run this condition\n",
    "\n",
    "a=0\n",
    "for i in range(1,11):\n",
    "    if i%2==0:\n",
    "        a+=1\n",
    "print(a)"
   ]
  },
  {
   "cell_type": "code",
   "execution_count": 14,
   "id": "0510b2f2-2b02-43a4-95bd-1672ebd7a616",
   "metadata": {},
   "outputs": [
    {
     "name": "stdout",
     "output_type": "stream",
     "text": [
      "ODD NUMBER COUNT 18\n",
      "EVEN NUMBERS COUNT 17\n"
     ]
    }
   ],
   "source": [
    "#ODD AND EVEN\n",
    "\n",
    "odd=0\n",
    "even=0\n",
    "for i in range(35):\n",
    "    if i%2==0:\n",
    "        odd+=1\n",
    "    else:\n",
    "        even+=1\n",
    "print('ODD NUMBER COUNT',odd)\n",
    "print('EVEN NUMBERS COUNT',even)\n",
    "        "
   ]
  },
  {
   "cell_type": "code",
   "execution_count": 26,
   "id": "ee8678e4-f8d2-4a89-94e9-8267a5615ade",
   "metadata": {},
   "outputs": [
    {
     "name": "stdout",
     "output_type": "stream",
     "text": [
      "69\n"
     ]
    }
   ],
   "source": [
    "a=0\n",
    "for i in range(1,150):\n",
    "    if i%3==0 or i%5==0:\n",
    "        a+=1\n",
    "print(a)"
   ]
  },
  {
   "cell_type": "code",
   "execution_count": 29,
   "id": "0d56338b-4a17-45ec-80bb-9d1dfa8b2daa",
   "metadata": {},
   "outputs": [
    {
     "name": "stdout",
     "output_type": "stream",
     "text": [
      "even\n"
     ]
    }
   ],
   "source": [
    "number=100\n",
    "if number%2==0:\n",
    "    print('even')\n",
    "else:\n",
    "    print('odd')"
   ]
  },
  {
   "cell_type": "code",
   "execution_count": null,
   "id": "50142f53-c069-4e1f-9639-cb46f19d7723",
   "metadata": {},
   "outputs": [],
   "source": []
  }
 ],
 "metadata": {
  "kernelspec": {
   "display_name": "Python 3 (ipykernel)",
   "language": "python",
   "name": "python3"
  },
  "language_info": {
   "codemirror_mode": {
    "name": "ipython",
    "version": 3
   },
   "file_extension": ".py",
   "mimetype": "text/x-python",
   "name": "python",
   "nbconvert_exporter": "python",
   "pygments_lexer": "ipython3",
   "version": "3.12.7"
  }
 },
 "nbformat": 4,
 "nbformat_minor": 5
}
