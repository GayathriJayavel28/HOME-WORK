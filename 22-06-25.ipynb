{
 "cells": [
  {
   "cell_type": "code",
   "execution_count": null,
   "id": "2b02b753-d21f-4946-a56a-745fada11281",
   "metadata": {},
   "outputs": [],
   "source": [
    "def check_odd_even():\n",
    "  a=34\n",
    "  if a % 2 == 0:\n",
    "    print (\"Even\")\n",
    "  else:\n",
    "    print(\"Odd\")\n",
    "check_odd_even()"
   ]
  },
  {
   "cell_type": "code",
   "execution_count": 3,
   "id": "c26c42ea-1e41-40cc-addf-707d6eef8e71",
   "metadata": {},
   "outputs": [],
   "source": [
    "def max_min():\n",
    "    high=[34,6,7,79,23,23,3456,20]\n",
    "    high1=0\n",
    "    for i in high:\n",
    "        if i > high1:\n",
    "            high1=i\n",
    "    low=high1\n",
    "    for i in high:\n",
    "        if i < low:\n",
    "            low=i\n",
    "max_min()"
   ]
  },
  {
   "cell_type": "markdown",
   "id": "49aa3159-e2e8-49c1-b062-abb3b12ad5fd",
   "metadata": {},
   "source": []
  },
  {
   "cell_type": "code",
   "execution_count": null,
   "id": "b34a6d2c-ecfc-402f-9919-a8d87220d3eb",
   "metadata": {},
   "outputs": [],
   "source": []
  }
 ],
 "metadata": {
  "kernelspec": {
   "display_name": "Python 3 (ipykernel)",
   "language": "python",
   "name": "python3"
  },
  "language_info": {
   "codemirror_mode": {
    "name": "ipython",
    "version": 3
   },
   "file_extension": ".py",
   "mimetype": "text/x-python",
   "name": "python",
   "nbconvert_exporter": "python",
   "pygments_lexer": "ipython3",
   "version": "3.12.7"
  }
 },
 "nbformat": 4,
 "nbformat_minor": 5
}
