{
 "cells": [
  {
   "cell_type": "code",
   "execution_count": null,
   "id": "dbf3b834-3836-4f11-9afd-aa53d27e6113",
   "metadata": {},
   "outputs": [],
   "source": [
    "skill=input('enter you skill')\n",
    "exp=int(input('enter your exp'))\n",
    "if skill=='python':\n",
    "    if exp==1:\n",
    "        print('TCS')\n",
    "    elif exp==2:\n",
    "        print('CTC')\n",
    "elif skill=='java':\n",
    "        if exp==1:\n",
    "            print('AMZ')\n",
    "        elif exp==2:\n",
    "            print('WIB')\n",
    "            \n",
    "        "
   ]
  },
  {
   "cell_type": "code",
   "execution_count": null,
   "id": "98ea63b7-3d85-4673-99d5-4f9728083a1f",
   "metadata": {},
   "outputs": [],
   "source": [
    "print('hi'+2)"
   ]
  },
  {
   "cell_type": "code",
   "execution_count": null,
   "id": "7b5aea0a-e2d5-47ed-90f3-40295f04d53f",
   "metadata": {},
   "outputs": [],
   "source": [
    "print(\"hi\"*2)"
   ]
  },
  {
   "cell_type": "code",
   "execution_count": null,
   "id": "85d9173a-1c08-4a58-8841-8e914092c2ea",
   "metadata": {},
   "outputs": [],
   "source": [
    "print(True+False)\n",
    "print(True+True)\n",
    "print(False+True)\n",
    "print(False+True)"
   ]
  },
  {
   "cell_type": "code",
   "execution_count": null,
   "id": "7c337633-f95e-491e-b0fe-bbd0f795faee",
   "metadata": {},
   "outputs": [],
   "source": [
    "print(True*False)\n",
    "print(True*True)\n",
    "print(False*True)\n",
    "print(False*True)"
   ]
  }
 ],
 "metadata": {
  "kernelspec": {
   "display_name": "Python 3 (ipykernel)",
   "language": "python",
   "name": "python3"
  },
  "language_info": {
   "codemirror_mode": {
    "name": "ipython",
    "version": 3
   },
   "file_extension": ".py",
   "mimetype": "text/x-python",
   "name": "python",
   "nbconvert_exporter": "python",
   "pygments_lexer": "ipython3",
   "version": "3.12.7"
  }
 },
 "nbformat": 4,
 "nbformat_minor": 5
}
