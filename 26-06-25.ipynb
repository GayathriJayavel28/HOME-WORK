{
 "cells": [
  {
   "cell_type": "code",
   "execution_count": null,
   "id": "dbac2325-8bf2-46ab-abf8-79f5e8ff15b5",
   "metadata": {},
   "outputs": [],
   "source": [
    "f=open(r\"C:/Users/sindh/OneDrive/Documents/SQL CODE/create database workers.txt\",'r')\n",
    "f.read()"
   ]
  },
  {
   "cell_type": "code",
   "execution_count": null,
   "id": "3babd46f-0ab0-46f7-af2c-e11c8924bd26",
   "metadata": {},
   "outputs": [],
   "source": [
    "f=open(r\"C:/Users/sindh/OneDrive/Documents/SQL CODE/create database workers.txt\",'r')\n",
    "f.readline()"
   ]
  },
  {
   "cell_type": "code",
   "execution_count": null,
   "id": "9471f97a-08a2-495d-8bb9-a4e19ebb5713",
   "metadata": {},
   "outputs": [],
   "source": [
    "f=open(r\"C:/Users/sindh/OneDrive/Documents/SQL CODE/create database workers.txt\",'r')\n",
    "f.readlines()"
   ]
  },
  {
   "cell_type": "code",
   "execution_count": 11,
   "id": "4e75897a-a777-49d3-aa8b-c44eb4cb6c85",
   "metadata": {},
   "outputs": [
    {
     "data": {
      "text/plain": [
       "94"
      ]
     },
     "execution_count": 11,
     "metadata": {},
     "output_type": "execute_result"
    }
   ],
   "source": [
    "f=open(r\"C:/Users/sindh/OneDrive/Documents/PYTHON GAYU/CLASS WORK/FILE HANDLING.txt\",'w')\n",
    "f.write('hi this is gayathri and i am a full stack developer i would like to share about my career path')\n"
   ]
  },
  {
   "cell_type": "code",
   "execution_count": 12,
   "id": "bf95ebbb-4471-40ce-ad9f-87ac1e535091",
   "metadata": {},
   "outputs": [
    {
     "data": {
      "text/plain": [
       "'hi this is gayathri and i am a full stack developer i would like to share about my career path'"
      ]
     },
     "execution_count": 12,
     "metadata": {},
     "output_type": "execute_result"
    }
   ],
   "source": [
    "f=open(r\"C:/Users/sindh/OneDrive/Documents/PYTHON GAYU/CLASS WORK/FILE HANDLING.txt\",'r')\n",
    "f.read()"
   ]
  },
  {
   "cell_type": "code",
   "execution_count": 23,
   "id": "9f9b48c9-9956-4cb8-bbb2-0ee9bab13f87",
   "metadata": {},
   "outputs": [
    {
     "ename": "TypeError",
     "evalue": "_IOBase.writelines() takes exactly one argument (0 given)",
     "output_type": "error",
     "traceback": [
      "\u001b[1;31m---------------------------------------------------------------------------\u001b[0m",
      "\u001b[1;31mTypeError\u001b[0m                                 Traceback (most recent call last)",
      "Cell \u001b[1;32mIn[23], line 2\u001b[0m\n\u001b[0;32m      1\u001b[0m f\u001b[38;5;241m=\u001b[39m\u001b[38;5;28mopen\u001b[39m(\u001b[38;5;124mr\u001b[39m\u001b[38;5;124m\"\u001b[39m\u001b[38;5;124mC:/Users/sindh/OneDrive/Documents/PYTHON GAYU/CLASS WORK/FILE HANDLING.txt\u001b[39m\u001b[38;5;124m\"\u001b[39m,\u001b[38;5;124m'\u001b[39m\u001b[38;5;124mw\u001b[39m\u001b[38;5;124m'\u001b[39m)\n\u001b[1;32m----> 2\u001b[0m f\u001b[38;5;241m.\u001b[39mwritelines()\n\u001b[0;32m      3\u001b[0m f\u001b[38;5;241m.\u001b[39mclose()\n",
      "\u001b[1;31mTypeError\u001b[0m: _IOBase.writelines() takes exactly one argument (0 given)"
     ]
    }
   ],
   "source": [
    "f=open(r\"C:/Users/sindh/OneDrive/Documents/PYTHON GAYU/CLASS WORK/FILE HANDLING.txt\",'w')\n",
    "f.writelines()\n",
    "f.close()"
   ]
  },
  {
   "cell_type": "code",
   "execution_count": null,
   "id": "ade68745-26ce-485b-a557-f06d0f1773b8",
   "metadata": {},
   "outputs": [],
   "source": []
  },
  {
   "cell_type": "code",
   "execution_count": 34,
   "id": "227d8dd5-20c0-4310-a8d3-54c42dd92c85",
   "metadata": {},
   "outputs": [
    {
     "name": "stdin",
     "output_type": "stream",
     "text": [
      " 10\n",
      " 20\n"
     ]
    },
    {
     "name": "stdout",
     "output_type": "stream",
     "text": [
      "30\n"
     ]
    },
    {
     "name": "stdin",
     "output_type": "stream",
     "text": [
      " 5\n",
      " 3\n"
     ]
    },
    {
     "name": "stdout",
     "output_type": "stream",
     "text": [
      "2\n"
     ]
    },
    {
     "name": "stdin",
     "output_type": "stream",
     "text": [
      " 23\n",
      " 45\n"
     ]
    },
    {
     "name": "stdout",
     "output_type": "stream",
     "text": [
      "1035\n"
     ]
    },
    {
     "name": "stdin",
     "output_type": "stream",
     "text": [
      " 23\n",
      " 5\n"
     ]
    },
    {
     "name": "stdout",
     "output_type": "stream",
     "text": [
      "4.6\n"
     ]
    }
   ],
   "source": [
    "def add():\n",
    "    num1=int(input())\n",
    "    num2=int(input())\n",
    "    num=num1+num2\n",
    "    return num\n",
    "\n",
    "def sub():\n",
    "    num1=int(input())\n",
    "    num2=int(input())\n",
    "    num=num1-num2\n",
    "    return num\n",
    "\n",
    "def mul():\n",
    "    num1=int(input())\n",
    "    num2=int(input())\n",
    "    num=num1*num2\n",
    "    return num\n",
    "\n",
    "def div():\n",
    "    num1=int(input())\n",
    "    num2=int(input())\n",
    "    num=num1/num2\n",
    "    return num\n",
    "\n",
    "s=add()\n",
    "print(s)\n",
    "t=sub()\n",
    "print(t)\n",
    "u=mul()\n",
    "print(u)\n",
    "v=div()\n",
    "print(v)"
   ]
  },
  {
   "cell_type": "code",
   "execution_count": 52,
   "id": "eb6c6246-53bd-4902-a1a6-4c5b94c5d7b8",
   "metadata": {},
   "outputs": [
    {
     "name": "stdin",
     "output_type": "stream",
     "text": [
      " 12\n",
      " 00\n"
     ]
    },
    {
     "name": "stdout",
     "output_type": "stream",
     "text": [
      "Done\n",
      "12\n",
      "12\n",
      "0\n"
     ]
    },
    {
     "ename": "ZeroDivisionError",
     "evalue": "division by zero",
     "output_type": "error",
     "traceback": [
      "\u001b[1;31m---------------------------------------------------------------------------\u001b[0m",
      "\u001b[1;31mZeroDivisionError\u001b[0m                         Traceback (most recent call last)",
      "Cell \u001b[1;32mIn[52], line 37\u001b[0m\n\u001b[0;32m     35\u001b[0m d\u001b[38;5;241m=\u001b[39mmul()\n\u001b[0;32m     36\u001b[0m \u001b[38;5;28mprint\u001b[39m(d)\n\u001b[1;32m---> 37\u001b[0m v\u001b[38;5;241m=\u001b[39mdiv()\n\u001b[0;32m     38\u001b[0m \u001b[38;5;28mprint\u001b[39m(v)\n",
      "Cell \u001b[1;32mIn[52], line 25\u001b[0m, in \u001b[0;36mdiv\u001b[1;34m()\u001b[0m\n\u001b[0;32m     24\u001b[0m \u001b[38;5;28;01mdef\u001b[39;00m \u001b[38;5;21mdiv\u001b[39m():\n\u001b[1;32m---> 25\u001b[0m     num\u001b[38;5;241m=\u001b[39mnum1\u001b[38;5;241m/\u001b[39mnum2\n\u001b[0;32m     26\u001b[0m     \u001b[38;5;28;01mreturn\u001b[39;00m num\n",
      "\u001b[1;31mZeroDivisionError\u001b[0m: division by zero"
     ]
    }
   ],
   "source": [
    "try:\n",
    "    num1=int(input())\n",
    "    num2=int(input())\n",
    "    \n",
    "except ZeroDivisionError:\n",
    "    print('ZeroDivisionError') \n",
    "\n",
    "finally:\n",
    "    print('Done')\n",
    "\n",
    "\n",
    "def add():\n",
    "    num=num1+num2\n",
    "    return num\n",
    "\n",
    "def sub():\n",
    "    num=num1-num2\n",
    "    return num\n",
    "\n",
    "def mul():\n",
    "    num=num1*num2\n",
    "    return num\n",
    "\n",
    "def div():\n",
    "    num=num1/num2\n",
    "    return num\n",
    "\n",
    "\n",
    "\n",
    "\n",
    "k=add()\n",
    "print(k)\n",
    "a=sub()\n",
    "print(a)\n",
    "d=mul()\n",
    "print(d)\n",
    "v=div()\n",
    "print(v)\n"
   ]
  },
  {
   "cell_type": "code",
   "execution_count": null,
   "id": "283cb90b-999d-44dd-807a-ee9ea4fcd4bf",
   "metadata": {},
   "outputs": [],
   "source": []
  }
 ],
 "metadata": {
  "kernelspec": {
   "display_name": "Python 3 (ipykernel)",
   "language": "python",
   "name": "python3"
  },
  "language_info": {
   "codemirror_mode": {
    "name": "ipython",
    "version": 3
   },
   "file_extension": ".py",
   "mimetype": "text/x-python",
   "name": "python",
   "nbconvert_exporter": "python",
   "pygments_lexer": "ipython3",
   "version": "3.12.7"
  }
 },
 "nbformat": 4,
 "nbformat_minor": 5
}
