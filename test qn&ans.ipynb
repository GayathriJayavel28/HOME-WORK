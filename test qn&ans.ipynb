{
 "cells": [
  {
   "cell_type": "code",
   "execution_count": null,
   "id": "93a2e588-46a8-4e22-b605-c54dacf0af9d",
   "metadata": {},
   "outputs": [],
   "source": [
    "n=int(input('enter the number:'))\n",
    "if n %2==0:\n",
    "    print('even')\n",
    "else:\n",
    "    print('odd')"
   ]
  },
  {
   "cell_type": "code",
   "execution_count": null,
   "id": "b9f33f0f-4d90-43c0-b519-2620bd1c7462",
   "metadata": {},
   "outputs": [],
   "source": [
    "n=float(input('enter the number:'))\n",
    "pi=3.14\n",
    "area=pi*n*n\n",
    "print('area of circle:',area)"
   ]
  },
  {
   "cell_type": "code",
   "execution_count": null,
   "id": "cd5482f2-cadc-4264-8aaa-aeb25f13f4f2",
   "metadata": {},
   "outputs": [],
   "source": [
    "n=int(input('enter the number:'))\n",
    "t=n\n",
    "a=0\n",
    "while n>0:\n",
    "    r=n%10\n",
    "    a=(a*10)+r\n",
    "    n=n//10\n",
    "if t==a:\n",
    "    print('it is palindrome')\n",
    "else:\n",
    "    print('it is not palindrome')"
   ]
  },
  {
   "cell_type": "code",
   "execution_count": 5,
   "id": "967994c4-8d89-4e61-a72d-2ee4a323a99d",
   "metadata": {},
   "outputs": [
    {
     "name": "stdout",
     "output_type": "stream",
     "text": [
      "common elements: [56, 3, 56, 2, 1, 8]\n"
     ]
    }
   ],
   "source": [
    "a=[34,56,3,56,2,1,6,7,8]\n",
    "b=[1,4,5,8,2,9,56,3]\n",
    "c=[]\n",
    "for i in a:\n",
    "    for j in b:\n",
    "       if i==j:\n",
    "           c.append(i)\n",
    "print('common elements:',c)"
   ]
  },
  {
   "cell_type": "code",
   "execution_count": 32,
   "id": "3be54ef5-edbd-40e1-9260-153c6cd45a93",
   "metadata": {},
   "outputs": [
    {
     "name": "stdout",
     "output_type": "stream",
     "text": [
      "common elements: [3, 7, 8, 3, 56]\n"
     ]
    }
   ],
   "source": [
    "def func(a,b):\n",
    "    s=[]\n",
    "    for i in a:\n",
    "        for j in b:\n",
    "            if i==j:\n",
    "                s.append(i)\n",
    "    return s\n",
    "\n",
    "a=[3,6,7,8,3,56]\n",
    "b=[3,4,56,7,8,4]\n",
    "print('common elements:',(func(a,b)))\n",
    "    "
   ]
  },
  {
   "cell_type": "code",
   "execution_count": 56,
   "id": "4d17972b-e79e-43e8-a0bb-c2011abc8522",
   "metadata": {},
   "outputs": [
    {
     "name": "stdout",
     "output_type": "stream",
     "text": [
      "{'h': 2, 'e': 1, 'l': 2, 'o': 2, ' ': 1, 'p': 1, 'y': 1, 't': 1, 'n': 1}\n",
      "{'g': 1, 'a': 2, 'y': 1, 't': 1, 'h': 1, 'r': 1, 'i': 1}\n",
      "it is not anagram\n"
     ]
    }
   ],
   "source": [
    "#ANAGRAM\n",
    "a='hello python'\n",
    "b='gayathri'\n",
    "c={}\n",
    "d={}\n",
    "for i in a:\n",
    "    if i not in c:\n",
    "        c[i]=1\n",
    "    else:\n",
    "        c[i]+=1\n",
    "\n",
    "for i in b:\n",
    "    if i not in d:\n",
    "        d[i]=1\n",
    "    else:\n",
    "        d[i]+=1\n",
    "print(c)\n",
    "print(d)\n",
    "if c==d:\n",
    "    print('it is anagram')\n",
    "else:\n",
    "    print('it is not anagram')"
   ]
  },
  {
   "cell_type": "code",
   "execution_count": 51,
   "id": "b7a09346-a375-4ba3-994e-0496b13bd518",
   "metadata": {},
   "outputs": [
    {
     "name": "stdin",
     "output_type": "stream",
     "text": [
      " 121 313 414 515\n"
     ]
    },
    {
     "name": "stdout",
     "output_type": "stream",
     "text": [
      "not\n"
     ]
    }
   ],
   "source": [
    "l=input().split()\n",
    "\n",
    "if l==l[::-1]:\n",
    "    print('pali')\n",
    "else:\n",
    "    print('not')"
   ]
  },
  {
   "cell_type": "code",
   "execution_count": 54,
   "id": "30e2face-87d6-47f1-9be3-e47d0d79bb18",
   "metadata": {},
   "outputs": [
    {
     "name": "stdin",
     "output_type": "stream",
     "text": [
      " 1 2 3 4 5 6\n",
      "  5 34 2 7 1 8\n"
     ]
    },
    {
     "name": "stdout",
     "output_type": "stream",
     "text": [
      "common elements: ['1', '2', '5']\n"
     ]
    }
   ],
   "source": [
    "a=(input()).split()\n",
    "b=(input()).split()\n",
    "c=[]\n",
    "\n",
    "for i in a:\n",
    "    for j in b:\n",
    "        if i==j:\n",
    "            c.append(i)\n",
    "print('common elements:',c)"
   ]
  },
  {
   "cell_type": "code",
   "execution_count": null,
   "id": "2625412f-5a9c-4923-aabe-699dbcc657e0",
   "metadata": {},
   "outputs": [],
   "source": []
  }
 ],
 "metadata": {
  "kernelspec": {
   "display_name": "Python 3 (ipykernel)",
   "language": "python",
   "name": "python3"
  },
  "language_info": {
   "codemirror_mode": {
    "name": "ipython",
    "version": 3
   },
   "file_extension": ".py",
   "mimetype": "text/x-python",
   "name": "python",
   "nbconvert_exporter": "python",
   "pygments_lexer": "ipython3",
   "version": "3.12.7"
  }
 },
 "nbformat": 4,
 "nbformat_minor": 5
}
