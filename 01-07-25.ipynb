{
 "cells": [
  {
   "cell_type": "markdown",
   "id": "51e4787c-19cc-4a37-89a7-2857658fe6a5",
   "metadata": {},
   "source": []
  },
  {
   "cell_type": "code",
   "execution_count": null,
   "id": "7ce4b9e7-3d03-4a54-82a2-c8ebbb23eb84",
   "metadata": {},
   "outputs": [],
   "source": [
    "s='care'\n",
    "g='race'\n",
    "a={}\n",
    "b={}\n",
    "for i in s:\n",
    "     if i not in a:\n",
    "         a[i]=1\n",
    "     else:\n",
    "         a[i]+=1\n",
    "\n",
    "for i in g:\n",
    "    if i not in b:\n",
    "        b[i]=1\n",
    "    else:\n",
    "        b[i]+=1\n",
    "        print(a)\n",
    "        print(b)\n",
    "        if a == b:\n",
    "            print(\"it is anagram.\")\n",
    "        else:\n",
    "            print(\"it is not anagram.\")\n",
    "     "
   ]
  },
  {
   "cell_type": "code",
   "execution_count": null,
   "id": "ed98140c-d3a5-484c-9498-7b8b0d58b0fa",
   "metadata": {},
   "outputs": [],
   "source": [
    "s = 'care'\n",
    "g = 'race'\n",
    "a = {}\n",
    "b = {}\n",
    "\n",
    "for i in s:\n",
    "    if i not in a:\n",
    "        a[i] = 1\n",
    "    else:\n",
    "        a[i] += 1\n",
    "\n",
    "for i in g:\n",
    "    if i not in b:\n",
    "        b[i] = 1\n",
    "    else:\n",
    "        b[i] += 1\n",
    "\n",
    "print(a)\n",
    "print(b)\n",
    "\n",
    "if a == b:\n",
    "    print(\"It is an anagram.\")\n",
    "else:\n",
    "    print(\"It is not an anagram.\")"
   ]
  },
  {
   "cell_type": "code",
   "execution_count": null,
   "id": "29bc063f-02c1-4cbf-a382-342b84ed14fe",
   "metadata": {},
   "outputs": [],
   "source": [
    "a = input()\n",
    "b = input()\n",
    "c = {}\n",
    "d = {}\n",
    "for i in a:\n",
    "    if i not in c:\n",
    "        c[i] = 1\n",
    "    else:\n",
    "        c[i] += 1\n",
    "for i in b:\n",
    "    if i not in d:\n",
    "        d[i] = 1\n",
    "    else:\n",
    "        d[i] += 1\n",
    "\n",
    "print(c)\n",
    "print(d)\n",
    "\n",
    "if a == b:\n",
    "    print(\"It is an anagram.\")\n",
    "else:\n",
    "    print(\"It is not an anagram.\")"
   ]
  },
  {
   "cell_type": "code",
   "execution_count": null,
   "id": "8d7ff522-7680-4508-b286-f9e159a51339",
   "metadata": {},
   "outputs": [],
   "source": []
  },
  {
   "cell_type": "code",
   "execution_count": null,
   "id": "dd27c5c2-33e3-4c34-98ec-29bef01e6d33",
   "metadata": {},
   "outputs": [],
   "source": [
    "n = int(input(\"Enter a number: \"))\n",
    "#print(f\"Pairs of numbers from 1 to {n} that add up to {n}:\")\n",
    "\n",
    "for i in range(1, n + 1):\n",
    "    a = n - i\n",
    "    if i <= a and a <= n:\n",
    "        print({i,a})\n",
    "        #print(f\"({i}, {j})\")"
   ]
  },
  {
   "cell_type": "code",
   "execution_count": 4,
   "id": "f25dcf0a-7995-4d3b-b9f0-c4aa1fcef800",
   "metadata": {},
   "outputs": [
    {
     "name": "stdout",
     "output_type": "stream",
     "text": [
      "(1, 9)\n",
      "(2, 8)\n",
      "(3, 7)\n",
      "(4, 6)\n",
      "(5, 5)\n"
     ]
    }
   ],
   "source": [
    "n=10\n",
    "for i in range(1,n+1):\n",
    "    a=n-i\n",
    "    if i<=a and a<=n:\n",
    "        print((i,a))\n",
    "    "
   ]
  },
  {
   "cell_type": "code",
   "execution_count": 6,
   "id": "c67b5c05-9e3a-4ea9-bcf5-2977d70be4a1",
   "metadata": {
    "scrolled": true
   },
   "outputs": [
    {
     "name": "stdout",
     "output_type": "stream",
     "text": [
      "(1,19) \n",
      "(2,18) \n",
      "(3,17) \n",
      "(4,16) \n",
      "(5,15) \n",
      "(6,14) \n",
      "(7,13) \n",
      "(8,12) \n",
      "(9,11) \n",
      "(10,10) \n"
     ]
    }
   ],
   "source": [
    "num = 20\n",
    "for i in range(1, num):\n",
    "    j = num - i\n",
    "    if i<=j and j<=num:\n",
    "        print(f\"({i},{j}) \")"
   ]
  },
  {
   "cell_type": "code",
   "execution_count": null,
   "id": "deb999b1-6afd-4305-9847-fd831d09a044",
   "metadata": {},
   "outputs": [],
   "source": []
  }
 ],
 "metadata": {
  "kernelspec": {
   "display_name": "Python 3 (ipykernel)",
   "language": "python",
   "name": "python3"
  },
  "language_info": {
   "codemirror_mode": {
    "name": "ipython",
    "version": 3
   },
   "file_extension": ".py",
   "mimetype": "text/x-python",
   "name": "python",
   "nbconvert_exporter": "python",
   "pygments_lexer": "ipython3",
   "version": "3.12.7"
  }
 },
 "nbformat": 4,
 "nbformat_minor": 5
}
