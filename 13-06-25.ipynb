{
 "cells": [
  {
   "cell_type": "code",
   "execution_count": null,
   "id": "923a2177-5570-42c9-8f34-4c5163a0c5da",
   "metadata": {},
   "outputs": [],
   "source": [
    "#NESTED FOR LOOP\n",
    "\n",
    "for i in range(1):\n",
    "    for j in range(1,5):\n",
    "        print(j,'GAYATHRI')"
   ]
  },
  {
   "cell_type": "code",
   "execution_count": null,
   "id": "4f1b1f4c-3634-48cb-ba70-c975af8cf7c1",
   "metadata": {},
   "outputs": [],
   "source": [
    "for i in range(1,3):\n",
    "    print('WEEK' ,i)\n",
    "    for j in range(1,8):\n",
    "      print('DAY:',j)\n",
    "        "
   ]
  },
  {
   "cell_type": "code",
   "execution_count": null,
   "id": "3236d8b8-d9ba-4048-86ea-bf9b8f7d725f",
   "metadata": {},
   "outputs": [],
   "source": [
    "for i in range(1,5):\n",
    "    print()\n",
    "    for j in range(1,i+1):\n",
    "     print('*',end='')"
   ]
  },
  {
   "cell_type": "code",
   "execution_count": null,
   "id": "ef67f36c-c687-4427-bedf-651f4a905900",
   "metadata": {},
   "outputs": [],
   "source": [
    "for i in range(1,10):\n",
    "    print()\n",
    "    for j in range(1,i+1):\n",
    "        print('*',end='')"
   ]
  },
  {
   "cell_type": "code",
   "execution_count": null,
   "id": "6229f47e-83f6-4420-b99a-b0b31f4ea3e8",
   "metadata": {},
   "outputs": [],
   "source": [
    "'''rows=6\n",
    "for i in range(rows):\n",
    "    for j in range(rows-i-1):\n",
    "        print('',end='')\n",
    "    for j in range(2*i+1):\n",
    "        print('*',end='')\n",
    "    print()'''"
   ]
  },
  {
   "cell_type": "code",
   "execution_count": null,
   "id": "4915b7af-69e3-419f-97b5-eeea0299a274",
   "metadata": {},
   "outputs": [],
   "source": []
  },
  {
   "cell_type": "code",
   "execution_count": null,
   "id": "dd3b2bfe-c02d-4791-aefe-bdb1311314b0",
   "metadata": {},
   "outputs": [],
   "source": []
  }
 ],
 "metadata": {
  "kernelspec": {
   "display_name": "Python 3 (ipykernel)",
   "language": "python",
   "name": "python3"
  },
  "language_info": {
   "codemirror_mode": {
    "name": "ipython",
    "version": 3
   },
   "file_extension": ".py",
   "mimetype": "text/x-python",
   "name": "python",
   "nbconvert_exporter": "python",
   "pygments_lexer": "ipython3",
   "version": "3.12.7"
  }
 },
 "nbformat": 4,
 "nbformat_minor": 5
}
