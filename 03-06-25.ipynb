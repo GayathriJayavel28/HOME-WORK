{
 "cells": [
  {
   "cell_type": "code",
   "execution_count": 1,
   "id": "484d80a7-a5c9-4b5f-889e-6cfe24d8db9d",
   "metadata": {},
   "outputs": [
    {
     "name": "stdout",
     "output_type": "stream",
     "text": [
      "hii\n"
     ]
    }
   ],
   "source": [
    "print(\"hii\")"
   ]
  },
  {
   "cell_type": "code",
   "execution_count": 2,
   "id": "4e7e6733-8e3c-4e67-9110-c9d126d4e8ef",
   "metadata": {},
   "outputs": [
    {
     "name": "stdout",
     "output_type": "stream",
     "text": [
      "gayathri\n"
     ]
    }
   ],
   "source": [
    "print('gayathri')"
   ]
  },
  {
   "cell_type": "code",
   "execution_count": 3,
   "id": "2856d760-901e-456f-ae6d-b200016979ae",
   "metadata": {},
   "outputs": [
    {
     "name": "stdout",
     "output_type": "stream",
     "text": [
      "8825863698\n"
     ]
    }
   ],
   "source": [
    "print(8825863698)"
   ]
  },
  {
   "cell_type": "code",
   "execution_count": 4,
   "id": "677f87ad-36e4-4c36-8db9-fe94c807d4bc",
   "metadata": {},
   "outputs": [
    {
     "name": "stdout",
     "output_type": "stream",
     "text": [
      "student id is 03\n"
     ]
    }
   ],
   "source": [
    "print(\"student id is 03\")"
   ]
  },
  {
   "cell_type": "code",
   "execution_count": 5,
   "id": "ebfe4c8b-876d-4686-b685-114a1c204759",
   "metadata": {},
   "outputs": [
    {
     "name": "stdout",
     "output_type": "stream",
     "text": [
      "student phone number 8825863698\n"
     ]
    }
   ],
   "source": [
    "print('student phone number 8825863698')"
   ]
  },
  {
   "cell_type": "code",
   "execution_count": 6,
   "id": "41124736-e145-4f00-9315-c0b0cf41bf7c",
   "metadata": {},
   "outputs": [
    {
     "name": "stdout",
     "output_type": "stream",
     "text": [
      "12345GAYU\n"
     ]
    }
   ],
   "source": [
    "print('12345GAYU')"
   ]
  },
  {
   "cell_type": "code",
   "execution_count": 7,
   "id": "98238e22-f41f-4d83-9833-5b43d0749459",
   "metadata": {},
   "outputs": [
    {
     "name": "stdout",
     "output_type": "stream",
     "text": [
      "HI GAYATHRI\n"
     ]
    }
   ],
   "source": [
    "print('HI GAYATHRI')"
   ]
  },
  {
   "cell_type": "code",
   "execution_count": 8,
   "id": "6bfd9070-b4be-4139-80ce-2cc8c3126ffb",
   "metadata": {},
   "outputs": [
    {
     "name": "stdout",
     "output_type": "stream",
     "text": [
      "PYthon Version 3.13\n"
     ]
    }
   ],
   "source": [
    "print(\"PYthon Version 3.13\")"
   ]
  },
  {
   "cell_type": "code",
   "execution_count": 9,
   "id": "6f403432-df6d-4740-a8f4-149d34bd6d54",
   "metadata": {},
   "outputs": [
    {
     "name": "stdout",
     "output_type": "stream",
     "text": [
      "$#&^*\n"
     ]
    }
   ],
   "source": [
    "print('$#&^*')"
   ]
  },
  {
   "cell_type": "code",
   "execution_count": 10,
   "id": "124eb358-71e7-419d-b3ab-0e5dc0f21220",
   "metadata": {},
   "outputs": [
    {
     "name": "stdout",
     "output_type": "stream",
     "text": [
      "$%#13854\n"
     ]
    }
   ],
   "source": [
    "print(\"$%#13854\")"
   ]
  },
  {
   "cell_type": "code",
   "execution_count": null,
   "id": "3f1c7c6a-b40c-4241-93c4-cf595ea0f393",
   "metadata": {},
   "outputs": [],
   "source": []
  }
 ],
 "metadata": {
  "kernelspec": {
   "display_name": "Python 3 (ipykernel)",
   "language": "python",
   "name": "python3"
  },
  "language_info": {
   "codemirror_mode": {
    "name": "ipython",
    "version": 3
   },
   "file_extension": ".py",
   "mimetype": "text/x-python",
   "name": "python",
   "nbconvert_exporter": "python",
   "pygments_lexer": "ipython3",
   "version": "3.12.7"
  }
 },
 "nbformat": 4,
 "nbformat_minor": 5
}
