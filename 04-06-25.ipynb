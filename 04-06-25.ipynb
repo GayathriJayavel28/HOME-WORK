{
 "cells": [
  {
   "cell_type": "code",
   "execution_count": 1,
   "id": "f7f1e8a4-03c1-4e8a-b323-2758ec83f437",
   "metadata": {},
   "outputs": [
    {
     "name": "stdout",
     "output_type": "stream",
     "text": [
      "<class 'int'>\n",
      "gayathri\n",
      "1234.0\n",
      "(1234+0j)\n"
     ]
    }
   ],
   "source": [
    "#casting int datatype\n",
    "\n",
    "my_variable=1234\n",
    "print(type(my_variable))\n",
    "my_variable=str(\"gayathri\")\n",
    "print(my_variable)\n",
    "my_variable=float(1234)\n",
    "print(my_variable)\n",
    "my_variable=complex(1234)\n",
    "print(my_variable)\n"
   ]
  },
  {
   "cell_type": "code",
   "execution_count": 10,
   "id": "acea6689-5436-49bb-8a61-3a817a9132b3",
   "metadata": {},
   "outputs": [
    {
     "name": "stdout",
     "output_type": "stream",
     "text": [
      "<class 'float'>\n",
      "123.32\n",
      "(123.32+0j)\n",
      "123\n"
     ]
    }
   ],
   "source": [
    "#casting float datatype\n",
    "\n",
    "my_variable1=123.32\n",
    "print(type(my_variable1))\n",
    "my_variable1=str(123.32)\n",
    "print(my_variable1)\n",
    "my_variable1=complex(123.32)\n",
    "print(my_variable1)\n",
    "my_variable1=int(123.32)\n",
    "print(my_variable1)"
   ]
  },
  {
   "cell_type": "code",
   "execution_count": 14,
   "id": "326fd024-5543-414a-a4a0-0b7745aa7129",
   "metadata": {},
   "outputs": [
    {
     "name": "stdout",
     "output_type": "stream",
     "text": [
      "<class 'str'>\n"
     ]
    },
    {
     "ename": "ValueError",
     "evalue": "invalid literal for int() with base 10: 'gayathri'",
     "output_type": "error",
     "traceback": [
      "\u001b[1;31m---------------------------------------------------------------------------\u001b[0m",
      "\u001b[1;31mValueError\u001b[0m                                Traceback (most recent call last)",
      "Cell \u001b[1;32mIn[14], line 3\u001b[0m\n\u001b[0;32m      1\u001b[0m my_variable2\u001b[38;5;241m=\u001b[39m\u001b[38;5;124m\"\u001b[39m\u001b[38;5;124mgayathri\u001b[39m\u001b[38;5;124m\"\u001b[39m\n\u001b[0;32m      2\u001b[0m \u001b[38;5;28mprint\u001b[39m(\u001b[38;5;28mtype\u001b[39m(my_variable2))\n\u001b[1;32m----> 3\u001b[0m my_variable2\u001b[38;5;241m=\u001b[39m\u001b[38;5;28mint\u001b[39m(\u001b[38;5;124m\"\u001b[39m\u001b[38;5;124mgayathri\u001b[39m\u001b[38;5;124m\"\u001b[39m)\n\u001b[0;32m      4\u001b[0m \u001b[38;5;28mprint\u001b[39m(my_variable2)\n\u001b[0;32m      5\u001b[0m my_variable2\u001b[38;5;241m=\u001b[39m\u001b[38;5;28mfloat\u001b[39m(\u001b[38;5;124m\"\u001b[39m\u001b[38;5;124mgayathri\u001b[39m\u001b[38;5;124m\"\u001b[39m)\n",
      "\u001b[1;31mValueError\u001b[0m: invalid literal for int() with base 10: 'gayathri'"
     ]
    }
   ],
   "source": [
    "#casting sting datatype\n",
    "\n",
    "my_variable2=\"gayathri\"\n",
    "print(type(my_variable2))\n",
    "\n",
    "my_variable2=int(\"gayathri\")\n",
    "print(my_variable2)\n",
    "#error\n",
    "my_variable2=float(\"gayathri\")\n",
    "print(my_variable2)\n",
    "#error\n",
    "my_variable2=complex(\"gayathri\")\n",
    "print(my_variable2)\n",
    "#error"
   ]
  },
  {
   "cell_type": "code",
   "execution_count": 24,
   "id": "ade7a7cc-4c25-44f0-9cd8-8e0cc363ec3b",
   "metadata": {},
   "outputs": [
    {
     "name": "stdout",
     "output_type": "stream",
     "text": [
      "<class 'complex'>\n",
      "(1+23j)\n"
     ]
    },
    {
     "ename": "TypeError",
     "evalue": "int() argument must be a string, a bytes-like object or a real number, not 'complex'",
     "output_type": "error",
     "traceback": [
      "\u001b[1;31m---------------------------------------------------------------------------\u001b[0m",
      "\u001b[1;31mTypeError\u001b[0m                                 Traceback (most recent call last)",
      "Cell \u001b[1;32mIn[24], line 5\u001b[0m\n\u001b[0;32m      3\u001b[0m my_variable32\u001b[38;5;241m=\u001b[39m\u001b[38;5;28mstr\u001b[39m(\u001b[38;5;241m1\u001b[39m\u001b[38;5;241m+\u001b[39m\u001b[38;5;241m23\u001b[39mj)\n\u001b[0;32m      4\u001b[0m \u001b[38;5;28mprint\u001b[39m(my_variable32)\n\u001b[1;32m----> 5\u001b[0m my_variable3\u001b[38;5;241m=\u001b[39m\u001b[38;5;28mint\u001b[39m(\u001b[38;5;241m1\u001b[39m\u001b[38;5;241m+\u001b[39m\u001b[38;5;241m23\u001b[39mj)\n\u001b[0;32m      6\u001b[0m \u001b[38;5;28mprint\u001b[39m(my_variable3)\n\u001b[0;32m      7\u001b[0m my_variable3\u001b[38;5;241m=\u001b[39m\u001b[38;5;28mfloat\u001b[39m(\u001b[38;5;241m1\u001b[39m\u001b[38;5;241m+\u001b[39m\u001b[38;5;241m23\u001b[39mj)\n",
      "\u001b[1;31mTypeError\u001b[0m: int() argument must be a string, a bytes-like object or a real number, not 'complex'"
     ]
    }
   ],
   "source": [
    "#casting complex datatype\n",
    "\n",
    "my_variable3=1+23j\n",
    "print(type(my_variable3))\n",
    "\n",
    "my_variable32=str(1+23j)\n",
    "print(my_variable32)\n",
    "\n",
    "my_variable3=int(1+23j)\n",
    "print(my_variable3)\n",
    "#error\n",
    "my_variable3=float(1+23j)\n",
    "print(my_variable3)\n",
    "#error"
   ]
  },
  {
   "cell_type": "code",
   "execution_count": 30,
   "id": "071d85c3-bfe2-4482-923c-9f242c8bd597",
   "metadata": {},
   "outputs": [
    {
     "name": "stdout",
     "output_type": "stream",
     "text": [
      "<class 'str'>\n",
      "8825863698\n",
      "8825863698.0\n",
      "(8825863698+0j)\n"
     ]
    }
   ],
   "source": [
    "#casting string datatype using numbers\n",
    "\n",
    "my_variable4=\"8825863698\"\n",
    "print(type(my_variable4))\n",
    "my_variable4=int(\"8825863698\")\n",
    "print(my_variable4)\n",
    "my_variable4=float(\"8825863698\")\n",
    "print(my_variable4)\n",
    "my_variable4=complex(\"8825863698\")\n",
    "print(my_variable4)"
   ]
  },
  {
   "cell_type": "code",
   "execution_count": null,
   "id": "27b34b57-52fb-4f88-9c25-2fd898fc4c3b",
   "metadata": {},
   "outputs": [],
   "source": []
  }
 ],
 "metadata": {
  "kernelspec": {
   "display_name": "Python 3 (ipykernel)",
   "language": "python",
   "name": "python3"
  },
  "language_info": {
   "codemirror_mode": {
    "name": "ipython",
    "version": 3
   },
   "file_extension": ".py",
   "mimetype": "text/x-python",
   "name": "python",
   "nbconvert_exporter": "python",
   "pygments_lexer": "ipython3",
   "version": "3.12.7"
  }
 },
 "nbformat": 4,
 "nbformat_minor": 5
}
