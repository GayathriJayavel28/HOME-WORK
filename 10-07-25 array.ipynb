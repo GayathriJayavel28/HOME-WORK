{
 "cells": [
  {
   "cell_type": "code",
   "execution_count": 4,
   "id": "f86013dd-956c-4a22-b4a9-74fe5a8c91ed",
   "metadata": {},
   "outputs": [
    {
     "name": "stdout",
     "output_type": "stream",
     "text": [
      "[1]\n"
     ]
    }
   ],
   "source": [
    "import numpy as np\n",
    "\n",
    "arr = np.array([1, 2, 3, 4, 5, 6, 7])\n",
    "\n",
    "print(arr[:1:2])"
   ]
  },
  {
   "cell_type": "code",
   "execution_count": 5,
   "id": "e671b7cb-b946-4f3e-b78e-27b4d6529d26",
   "metadata": {},
   "outputs": [
    {
     "name": "stdout",
     "output_type": "stream",
     "text": [
      "[1 3 5]\n"
     ]
    }
   ],
   "source": [
    "import numpy as np\n",
    "\n",
    "arr = np.array([1, 2, 3, 4, 5, 6, 7])\n",
    "\n",
    "print(arr[:-1:2])"
   ]
  },
  {
   "cell_type": "code",
   "execution_count": 3,
   "id": "ff6c8af1-fee0-4593-9a7d-5981bcaf98d6",
   "metadata": {},
   "outputs": [
    {
     "name": "stdout",
     "output_type": "stream",
     "text": [
      "[1 2]\n"
     ]
    }
   ],
   "source": [
    "import numpy as np\n",
    "\n",
    "arr = np.array([1, 2, 3, 4, 5, 6, 7])\n",
    "\n",
    "print(arr[:2])"
   ]
  },
  {
   "cell_type": "code",
   "execution_count": 9,
   "id": "30670fcb-d604-404f-bfdc-1f02d823c2b2",
   "metadata": {},
   "outputs": [
    {
     "data": {
      "text/plain": [
       "array([[ 7,  8,  9],\n",
       "       [17, 18, 19]])"
      ]
     },
     "execution_count": 9,
     "metadata": {},
     "output_type": "execute_result"
    }
   ],
   "source": [
    "import numpy as np\n",
    "d = np.array([[[1, 2, 3, 4, 5],[6,7,8,9,10]],[[11, 12, 13, 14, 15],[16,17,18,19,20]]])\n",
    "d[0:2,1,1:4]\n"
   ]
  },
  {
   "cell_type": "code",
   "execution_count": 2,
   "id": "142aa9da-2de6-4c1b-aaef-f6876cae02e7",
   "metadata": {},
   "outputs": [
    {
     "data": {
      "text/plain": [
       "array([[19, 52, 13, 19],\n",
       "       [34, 90, 45, 19]])"
      ]
     },
     "execution_count": 2,
     "metadata": {},
     "output_type": "execute_result"
    }
   ],
   "source": [
    "import numpy as np\n",
    "d = np.array([[[45,67,89,23],[6,7,8,9]],[[19, 52, 13, 19],[34,90,45,19]]])\n",
    "d[1]"
   ]
  },
  {
   "cell_type": "code",
   "execution_count": 3,
   "id": "b12144ec-e46d-465e-bc39-4df6ffdf21f9",
   "metadata": {},
   "outputs": [
    {
     "data": {
      "text/plain": [
       "array([[45, 67, 89, 23],\n",
       "       [ 6,  7,  8,  9]])"
      ]
     },
     "execution_count": 3,
     "metadata": {},
     "output_type": "execute_result"
    }
   ],
   "source": [
    "import numpy as np\n",
    "d = np.array([[[45,67,89,23],[6,7,8,9]],[[19, 52, 13, 19],[34,90,45,19]]])\n",
    "d[0]"
   ]
  },
  {
   "cell_type": "code",
   "execution_count": 8,
   "id": "8d3f0db3-cca3-46fc-a242-168b5b2f66cd",
   "metadata": {},
   "outputs": [
    {
     "data": {
      "text/plain": [
       "array([[[45, 67, 89, 23],\n",
       "        [ 6,  7,  8,  9]],\n",
       "\n",
       "       [[19, 52, 13, 19],\n",
       "        [34, 90, 45, 19]]])"
      ]
     },
     "execution_count": 8,
     "metadata": {},
     "output_type": "execute_result"
    }
   ],
   "source": [
    "import numpy as np\n",
    "d = np.array([[[45,67,89,23],[6,7,8,9]],[[19, 52, 13, 19],[34,90,45,19]]])\n",
    "d[:2]"
   ]
  },
  {
   "cell_type": "code",
   "execution_count": null,
   "id": "82d093d4-8a8e-4b5e-b8ac-f7d578d5e8a5",
   "metadata": {},
   "outputs": [],
   "source": []
  }
 ],
 "metadata": {
  "kernelspec": {
   "display_name": "Python 3 (ipykernel)",
   "language": "python",
   "name": "python3"
  },
  "language_info": {
   "codemirror_mode": {
    "name": "ipython",
    "version": 3
   },
   "file_extension": ".py",
   "mimetype": "text/x-python",
   "name": "python",
   "nbconvert_exporter": "python",
   "pygments_lexer": "ipython3",
   "version": "3.12.7"
  }
 },
 "nbformat": 4,
 "nbformat_minor": 5
}
