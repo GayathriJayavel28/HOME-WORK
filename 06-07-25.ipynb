{
 "cells": [
  {
   "cell_type": "code",
   "execution_count": 7,
   "id": "2cbd2a90-f87b-4e31-a151-f1eea16bc4e4",
   "metadata": {},
   "outputs": [
    {
     "name": "stdout",
     "output_type": "stream",
     "text": [
      "22\n"
     ]
    }
   ],
   "source": [
    "#protected\n",
    "class protected:\n",
    "    def __init__(self):\n",
    "        self._age=22\n",
    "\n",
    "class subclass(protected):\n",
    "    def fun1(self):\n",
    "        print(self._age)\n",
    "\n",
    "obj=subclass()\n",
    "obj.fun1()"
   ]
  },
  {
   "cell_type": "code",
   "execution_count": 18,
   "id": "f392b0f5-fc19-4624-9058-b40480d6e16b",
   "metadata": {},
   "outputs": [
    {
     "name": "stdout",
     "output_type": "stream",
     "text": [
      "22\n"
     ]
    }
   ],
   "source": [
    "#protected\n",
    "class protected:\n",
    "    def __init__(self):\n",
    "        self.__age=22\n",
    "\n",
    "\n",
    "    def fun1(self):\n",
    "       return (self.__age)\n",
    "\n",
    "obj=protected()\n",
    "print(obj.fun1())"
   ]
  },
  {
   "cell_type": "code",
   "execution_count": 20,
   "id": "55624e1f-219b-4566-9ae3-c49cf8443e8d",
   "metadata": {},
   "outputs": [
    {
     "name": "stdout",
     "output_type": "stream",
     "text": [
      "22\n",
      "15\n"
     ]
    }
   ],
   "source": [
    "def myfunc(n):\n",
    "  return lambda a : a * n\n",
    "\n",
    "mydoubler = myfunc(2)\n",
    "mytripler = myfunc(3)\n",
    "\n",
    "print(mydoubler(11))\n",
    "print(mytripler(5))"
   ]
  },
  {
   "cell_type": "code",
   "execution_count": null,
   "id": "79d93880-0afc-4503-a340-7deb75ff6d22",
   "metadata": {},
   "outputs": [],
   "source": []
  },
  {
   "cell_type": "code",
   "execution_count": 27,
   "id": "c9cc73dc-6a19-4b0a-ba4f-d6f8a365e75f",
   "metadata": {},
   "outputs": [
    {
     "name": "stdout",
     "output_type": "stream",
     "text": [
      "[1, 8, 27, 64, 125]\n"
     ]
    }
   ],
   "source": [
    "n = [1, 2, 3, 4, 5]\n",
    "s = list(map(lambda x: x**3, n))\n",
    "print(s)"
   ]
  },
  {
   "cell_type": "code",
   "execution_count": 28,
   "id": "a3a01a0d-111f-40be-ac59-220fc79f42fe",
   "metadata": {},
   "outputs": [
    {
     "name": "stdout",
     "output_type": "stream",
     "text": [
      "[25, 30, 19, 22]\n"
     ]
    }
   ],
   "source": [
    "ages = [25, 17, 30, 19, 16, 22]\n",
    "adult_ages = list(filter(lambda age: age >= 18, ages))\n",
    "print(adult_ages)"
   ]
  },
  {
   "cell_type": "code",
   "execution_count": null,
   "id": "895cc1ca-2e0f-4e6b-ac73-8f213a03f979",
   "metadata": {},
   "outputs": [],
   "source": []
  }
 ],
 "metadata": {
  "kernelspec": {
   "display_name": "Python 3 (ipykernel)",
   "language": "python",
   "name": "python3"
  },
  "language_info": {
   "codemirror_mode": {
    "name": "ipython",
    "version": 3
   },
   "file_extension": ".py",
   "mimetype": "text/x-python",
   "name": "python",
   "nbconvert_exporter": "python",
   "pygments_lexer": "ipython3",
   "version": "3.12.7"
  }
 },
 "nbformat": 4,
 "nbformat_minor": 5
}
