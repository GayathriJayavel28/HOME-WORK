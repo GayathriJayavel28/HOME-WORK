{
 "cells": [
  {
   "cell_type": "code",
   "execution_count": 5,
   "id": "66dd197d-cff8-4ba6-ad40-c3f20cb367dd",
   "metadata": {},
   "outputs": [
    {
     "data": {
      "text/plain": [
       "42"
      ]
     },
     "execution_count": 5,
     "metadata": {},
     "output_type": "execute_result"
    }
   ],
   "source": [
    "def add(a,b):\n",
    "    return a+b\n",
    "    \n",
    "\n",
    "def sub(a,b):\n",
    "    return a-b\n",
    "\n",
    "def mul(a,b):\n",
    "    return a*b\n",
    "    \n",
    "    \n",
    "add(1,3)\n",
    "sub(4,6)\n",
    "mul(6,7)"
   ]
  },
  {
   "cell_type": "code",
   "execution_count": 6,
   "id": "10721480-e2e3-4fa9-83c2-0317a3751533",
   "metadata": {},
   "outputs": [],
   "source": [
    "a=10\n",
    "b=20\n",
    "\n",
    "def add(a,b):\n",
    "    return \n",
    "    \n",
    "    "
   ]
  },
  {
   "cell_type": "code",
   "execution_count": 2,
   "id": "84f919bc-d447-4101-a482-d6206f59b4d0",
   "metadata": {},
   "outputs": [
    {
     "name": "stdout",
     "output_type": "stream",
     "text": [
      "6\n",
      "2\n",
      "18\n",
      "0.3333333333333333\n"
     ]
    }
   ],
   "source": [
    "def add(a,b):\n",
    "    c=a+b\n",
    "    return a\n",
    "\n",
    "def sub(a,b):\n",
    "    c=a-b\n",
    "    return c\n",
    "\n",
    "def mul(a,b):\n",
    "    c=a*b\n",
    "    return c\n",
    "\n",
    "def div(a,b):\n",
    "    c=a/b\n",
    "    return c\n",
    "\n",
    "k=add(6,7)\n",
    "print(k)\n",
    "k1=sub(8,6)\n",
    "print(k1)\n",
    "k2=mul(3,6)\n",
    "print(k2)\n",
    "k3=div(5,15)\n",
    "print(k3)"
   ]
  },
  {
   "cell_type": "code",
   "execution_count": 1,
   "id": "212d1223-0878-4e30-b622-a6e2cf5f5956",
   "metadata": {},
   "outputs": [
    {
     "name": "stdout",
     "output_type": "stream",
     "text": [
      "15\n",
      "-5\n"
     ]
    },
    {
     "ename": "NameError",
     "evalue": "name 'pri' is not defined",
     "output_type": "error",
     "traceback": [
      "\u001b[1;31m---------------------------------------------------------------------------\u001b[0m",
      "\u001b[1;31mNameError\u001b[0m                                 Traceback (most recent call last)",
      "Cell \u001b[1;32mIn[1], line 25\u001b[0m\n\u001b[0;32m     23\u001b[0m \u001b[38;5;28mprint\u001b[39m(k1)\n\u001b[0;32m     24\u001b[0m k2\u001b[38;5;241m=\u001b[39mmul(a,b)\n\u001b[1;32m---> 25\u001b[0m pri\n\u001b[0;32m     26\u001b[0m k3\u001b[38;5;241m=\u001b[39mdiv(a,b)\n",
      "\u001b[1;31mNameError\u001b[0m: name 'pri' is not defined"
     ]
    }
   ],
   "source": [
    "a=5\n",
    "b=10\n",
    "\n",
    "def add(a,b):\n",
    "    c=a+b\n",
    "    return c\n",
    "\n",
    "def sub(a,b):\n",
    "    c=a-b\n",
    "    return c\n",
    "    \n",
    "def mul(a,b):\n",
    "    c=a*b\n",
    "    return c\n",
    "\n",
    "def div(a,b):\n",
    "    c=a/b\n",
    "    return c\n",
    "    \n",
    "k=add(a,b)\n",
    "print(k)\n",
    "k1=sub(a,b)\n",
    "print(k1)\n",
    "k2=mul(a,b)\n",
    "pri\n",
    "k3=div(a,b)"
   ]
  },
  {
   "cell_type": "code",
   "execution_count": null,
   "id": "1fd339b0-e501-4450-b8e3-87d60e82e733",
   "metadata": {},
   "outputs": [],
   "source": []
  },
  {
   "cell_type": "code",
   "execution_count": null,
   "id": "1401fd48-0542-4a74-b890-14a39016b878",
   "metadata": {},
   "outputs": [],
   "source": []
  },
  {
   "cell_type": "code",
   "execution_count": null,
   "id": "220f9138-e144-45a0-93f0-6af8ede76125",
   "metadata": {},
   "outputs": [],
   "source": []
  },
  {
   "cell_type": "code",
   "execution_count": null,
   "id": "701ecef2-edff-41d0-bb1d-7a857efc7cc3",
   "metadata": {},
   "outputs": [],
   "source": []
  }
 ],
 "metadata": {
  "kernelspec": {
   "display_name": "Python 3 (ipykernel)",
   "language": "python",
   "name": "python3"
  },
  "language_info": {
   "codemirror_mode": {
    "name": "ipython",
    "version": 3
   },
   "file_extension": ".py",
   "mimetype": "text/x-python",
   "name": "python",
   "nbconvert_exporter": "python",
   "pygments_lexer": "ipython3",
   "version": "3.12.7"
  }
 },
 "nbformat": 4,
 "nbformat_minor": 5
}
