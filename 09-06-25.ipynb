{
 "cells": [
  {
   "cell_type": "code",
   "execution_count": null,
   "id": "4779560f-0fae-4388-8e04-7df03871fcce",
   "metadata": {},
   "outputs": [],
   "source": [
    "#LOGICAL OPERATORS"
   ]
  },
  {
   "cell_type": "code",
   "execution_count": 3,
   "id": "b252730d-ab55-4f13-aae7-a5dc33623b0a",
   "metadata": {},
   "outputs": [
    {
     "name": "stdout",
     "output_type": "stream",
     "text": [
      "False\n",
      "False\n",
      "True\n"
     ]
    }
   ],
   "source": [
    "#  AND =  This operator returns True if both operands are True; otherwise, it returns False.\n",
    "\n",
    "\n",
    "a=42\n",
    "b=32\n",
    "print(a>b and a<b)\n",
    "\n",
    "x = 123\n",
    "print(x > 156 and x < 112 )\n",
    "print(x > 112 and x < 165) "
   ]
  },
  {
   "cell_type": "code",
   "execution_count": 11,
   "id": "38b61069-9381-4513-9ae1-3a7705bdcc20",
   "metadata": {},
   "outputs": [
    {
     "name": "stdout",
     "output_type": "stream",
     "text": [
      "True\n",
      "True\n",
      "True\n"
     ]
    }
   ],
   "source": [
    "# OR   This operator returns True if at least one of the operands is True. It returns False only if both operands are False.\n",
    "\n",
    "\n",
    "a=12\n",
    "b=13\n",
    "print(a<b or a>b)\n",
    "\n",
    "x=15\n",
    "print(x<12 or x>11)\n",
    "print(x>19 or x<18)"
   ]
  },
  {
   "cell_type": "code",
   "execution_count": 15,
   "id": "fe113183-75d9-40a1-bafc-5f84fbf18ef6",
   "metadata": {},
   "outputs": [
    {
     "name": "stdout",
     "output_type": "stream",
     "text": [
      "True\n",
      "False\n",
      "False\n"
     ]
    }
   ],
   "source": [
    "# NOT    If the operand is True, (not) returns False.\n",
    "\n",
    "a=10\n",
    "b=15\n",
    "print(a<b)\n",
    "\n",
    "x=15\n",
    "print (not(x<12 or x>11))\n",
    "print(not(x>19 or x<18))"
   ]
  },
  {
   "cell_type": "code",
   "execution_count": null,
   "id": "9ee95f0e-aa31-4fbb-add2-d538f0a5adaa",
   "metadata": {},
   "outputs": [],
   "source": []
  },
  {
   "cell_type": "code",
   "execution_count": null,
   "id": "9442ed29-e4f9-4ba4-84c6-287629ccc21b",
   "metadata": {},
   "outputs": [],
   "source": [
    "#IDENTITY OPERATORS  =  Identity operators in Python are used to compare the memory locations of two objects."
   ]
  },
  {
   "cell_type": "code",
   "execution_count": 21,
   "id": "649bb14a-e12b-4e70-9e2e-2e31d9b74bd8",
   "metadata": {},
   "outputs": [
    {
     "name": "stdout",
     "output_type": "stream",
     "text": [
      "True\n",
      "False\n",
      "True\n"
     ]
    }
   ],
   "source": [
    "# is - Returns True if both variables point to the same object.\n",
    "\n",
    "my_variable=2\n",
    "my_variable1=2\n",
    "print(my_variable is my_variable1)\n",
    "\n",
    "my_variable=123\n",
    "my_variable1=234\n",
    "print(my_variable is my_variable1)\n",
    "\n",
    "my_variable=256\n",
    "my_variable1=256\n",
    "print(my_variable is my_variable1)\n"
   ]
  },
  {
   "cell_type": "code",
   "execution_count": 23,
   "id": "85602bb3-2e72-45be-a55f-c6279452db65",
   "metadata": {},
   "outputs": [
    {
     "name": "stdout",
     "output_type": "stream",
     "text": [
      "True\n",
      "False\n"
     ]
    }
   ],
   "source": [
    "# is not - Returns True if both variables do not point to the same object. \n",
    "\n",
    "my_mine=123\n",
    "my_mine1=234\n",
    "print(my_mine is not my_mine1)\n",
    "\n",
    "my_mine=123\n",
    "my_mine1=123\n",
    "print(my_mine is not my_mine1)"
   ]
  },
  {
   "cell_type": "code",
   "execution_count": null,
   "id": "e05ed0ef-1f38-4498-a2b5-291b1254e415",
   "metadata": {},
   "outputs": [],
   "source": []
  },
  {
   "cell_type": "code",
   "execution_count": null,
   "id": "47bf65da-c954-4aab-98d3-7feae0f20c02",
   "metadata": {},
   "outputs": [],
   "source": [
    "#MEMBERSHIP OPERATORS"
   ]
  },
  {
   "cell_type": "code",
   "execution_count": 31,
   "id": "461e4a87-7a6b-4b52-9e47-8fce2f7aee74",
   "metadata": {},
   "outputs": [
    {
     "name": "stdout",
     "output_type": "stream",
     "text": [
      "True\n",
      "False\n",
      "True\n",
      "False\n"
     ]
    }
   ],
   "source": [
    "# in \n",
    "\n",
    "a='1,2,3,4,5,6'\n",
    "print('5' in a)\n",
    "print('10' in a)\n",
    "\n",
    "b='gayathri','vasu','vai','sindhu'\n",
    "print('gayathri' in b)\n",
    "b='gayathri','vasu','vai','sindhu'\n",
    "print('kalpana' in b)"
   ]
  },
  {
   "cell_type": "code",
   "execution_count": 32,
   "id": "6fbc6c2f-6862-448f-b1a0-b2af4359ccf4",
   "metadata": {},
   "outputs": [
    {
     "name": "stdout",
     "output_type": "stream",
     "text": [
      "False\n",
      "True\n",
      "False\n",
      "True\n"
     ]
    }
   ],
   "source": [
    "# not in\n",
    "\n",
    "a='1,2,3,4,5,6'\n",
    "print('5' not in a)\n",
    "print('10'not in a)\n",
    "\n",
    "b='gayathri','vasu','vai','sindhu'\n",
    "print('gayathri'not in b)\n",
    "b='gayathri','vasu','vai','sindhu'\n",
    "print('kalpana' not in b)\n"
   ]
  },
  {
   "cell_type": "code",
   "execution_count": null,
   "id": "99a90ac6-929a-42aa-b999-c05868191ccd",
   "metadata": {},
   "outputs": [],
   "source": []
  },
  {
   "cell_type": "code",
   "execution_count": null,
   "id": "d3bcdbd7-8f31-4983-82bf-53532bcd3928",
   "metadata": {},
   "outputs": [],
   "source": [
    "#BITWISE OPERATORS "
   ]
  },
  {
   "cell_type": "code",
   "execution_count": null,
   "id": "1656eb70-8fd5-4383-ac04-a5a11a16219a",
   "metadata": {},
   "outputs": [],
   "source": [
    "#"
   ]
  },
  {
   "cell_type": "code",
   "execution_count": 9,
   "id": "c727e8dd-8e30-49d2-91d2-dedc938a82a8",
   "metadata": {},
   "outputs": [
    {
     "name": "stdout",
     "output_type": "stream",
     "text": [
      "D\n"
     ]
    }
   ],
   "source": [
    "#conditional statement\n",
    "\n",
    "mark=-77\n",
    "if mark>=90:\n",
    "    print('A')\n",
    "elif mark>=80:\n",
    "    print('B')\n",
    "elif mark>=70:\n",
    "    print('C')\n",
    "else:\n",
    "    print('D')"
   ]
  },
  {
   "cell_type": "code",
   "execution_count": 52,
   "id": "7156d418-04ec-48a5-accd-0d63e9dbba94",
   "metadata": {},
   "outputs": [
    {
     "name": "stdout",
     "output_type": "stream",
     "text": [
      "The grade for a score of 45 is F\n"
     ]
    }
   ],
   "source": [
    "   score = 45\n",
    "   if score >= 90:\n",
    "       grade = \"A\"\n",
    "   elif score >= 80:\n",
    "       grade = \"B\"\n",
    "   elif score >= 70:\n",
    "       grade = \"C\"\n",
    "   else:\n",
    "       grade = \"F\"\n",
    "   print(f\"The grade for a score of {score} is {grade}\")"
   ]
  },
  {
   "cell_type": "code",
   "execution_count": null,
   "id": "2a9d0b3b-61da-4c9e-9939-adc32d01cd0a",
   "metadata": {},
   "outputs": [],
   "source": []
  }
 ],
 "metadata": {
  "kernelspec": {
   "display_name": "Python 3 (ipykernel)",
   "language": "python",
   "name": "python3"
  },
  "language_info": {
   "codemirror_mode": {
    "name": "ipython",
    "version": 3
   },
   "file_extension": ".py",
   "mimetype": "text/x-python",
   "name": "python",
   "nbconvert_exporter": "python",
   "pygments_lexer": "ipython3",
   "version": "3.12.7"
  }
 },
 "nbformat": 4,
 "nbformat_minor": 5
}
