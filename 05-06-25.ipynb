{
 "cells": [
  {
   "cell_type": "code",
   "execution_count": 1,
   "id": "eb54cfcd-6a5f-4fb0-984d-4f972f0feb87",
   "metadata": {},
   "outputs": [
    {
     "name": "stdout",
     "output_type": "stream",
     "text": [
      "24\n"
     ]
    }
   ],
   "source": [
    "#length\n",
    "g='hi gayathri,how are you?'\n",
    "print(len(g))"
   ]
  },
  {
   "cell_type": "code",
   "execution_count": 14,
   "id": "5399383e-af99-455f-b563-fb5badcdb799",
   "metadata": {},
   "outputs": [
    {
     "name": "stdout",
     "output_type": "stream",
     "text": [
      "hi gayathri\n",
      "how\n",
      "how are you\n",
      "hi gayathri,how are you?\n"
     ]
    }
   ],
   "source": [
    "#slicing\n",
    "g='hi gayathri,how are you?'\n",
    "print(g[:11])\n",
    "print(g[12:15])\n",
    "print(g[-12:-1])\n",
    "print(g[-24:])"
   ]
  },
  {
   "cell_type": "code",
   "execution_count": 16,
   "id": "2d8a0405-46c9-43cd-a8f8-6835d85f42c9",
   "metadata": {},
   "outputs": [
    {
     "name": "stdout",
     "output_type": "stream",
     "text": [
      "WHAT ARE YOU DOING\n"
     ]
    }
   ],
   "source": [
    "#string modify methods\n",
    "#upper()\n",
    "\n",
    "s=\"what are you doing\"\n",
    "print(s.upper())"
   ]
  },
  {
   "cell_type": "code",
   "execution_count": 17,
   "id": "5f5b0f85-054c-4f7e-9535-b945e20cba13",
   "metadata": {},
   "outputs": [
    {
     "name": "stdout",
     "output_type": "stream",
     "text": [
      "i like cats\n"
     ]
    }
   ],
   "source": [
    "#lower()\n",
    "\n",
    "a='I LIKE CATS'\n",
    "print(a.lower())"
   ]
  },
  {
   "cell_type": "code",
   "execution_count": 18,
   "id": "01c85125-e227-4274-a63e-42098931ceb6",
   "metadata": {},
   "outputs": [
    {
     "name": "stdout",
     "output_type": "stream",
     "text": [
      "My life my rules\n"
     ]
    }
   ],
   "source": [
    "#capitalize()\n",
    "\n",
    "q='my life my rules'\n",
    "print(q.capitalize())"
   ]
  },
  {
   "cell_type": "code",
   "execution_count": 19,
   "id": "f30004c7-0ebc-432f-a51a-0c264927d5ec",
   "metadata": {},
   "outputs": [
    {
     "name": "stdout",
     "output_type": "stream",
     "text": [
      "My Life My Rules\n"
     ]
    }
   ],
   "source": [
    "#title()\n",
    "\n",
    "q='my life my rules'\n",
    "print(q.title())"
   ]
  },
  {
   "cell_type": "code",
   "execution_count": 45,
   "id": "c813598e-9f10-455b-ab43-a0731db0023f",
   "metadata": {},
   "outputs": [
    {
     "name": "stdout",
     "output_type": "stream",
     "text": [
      "                                                     Are you Crazy                                                      \n"
     ]
    }
   ],
   "source": [
    "#center()\n",
    "\n",
    "v='Are you Crazy'\n",
    "print(v.center(120))"
   ]
  },
  {
   "cell_type": "code",
   "execution_count": 25,
   "id": "90b82387-b5f7-49dc-bd4e-8f8bf8d92f30",
   "metadata": {},
   "outputs": [
    {
     "name": "stdout",
     "output_type": "stream",
     "text": [
      "my life my ruless\n"
     ]
    }
   ],
   "source": [
    "#casefold()\n",
    "\n",
    "q='MY LIFE MY RULESs'\n",
    "print(q.casefold())"
   ]
  },
  {
   "cell_type": "code",
   "execution_count": 32,
   "id": "b7994d79-f1b4-4b7c-bd2c-e46d311c7b0b",
   "metadata": {},
   "outputs": [
    {
     "name": "stdout",
     "output_type": "stream",
     "text": [
      "its very annoying\n",
      "its very annoying   \n",
      "    its very annoying\n"
     ]
    }
   ],
   "source": [
    "#strip() its remove whitespace\n",
    "\n",
    "g=\"    its very annoying   \"\n",
    "print(g.strip())\n",
    "g=\"    its very annoying   \"\n",
    "print(g.lstrip())\n",
    "g=\"    its very annoying   \"\n",
    "print(g.rstrip())"
   ]
  },
  {
   "cell_type": "code",
   "execution_count": 33,
   "id": "f422cca7-92eb-4b93-b059-37794a89fdd5",
   "metadata": {},
   "outputs": [
    {
     "name": "stdout",
     "output_type": "stream",
     "text": [
      "['Its', 'Very', 'Annoying']\n"
     ]
    }
   ],
   "source": [
    "#split ()\n",
    "\n",
    "g=\"Its Very Annoying\"\n",
    "print(g.split())\n"
   ]
  },
  {
   "cell_type": "code",
   "execution_count": 42,
   "id": "3646858a-ec4e-4393-ad04-7b8dd67d213f",
   "metadata": {
    "scrolled": true
   },
   "outputs": [
    {
     "name": "stdout",
     "output_type": "stream",
     "text": [
      "she is hery angry\n",
      "Jello, World!\n"
     ]
    }
   ],
   "source": [
    "#replace()\n",
    "\n",
    "y=\"she is very angry\"\n",
    "print(y.replace(\"very\", \"hery\"))\n",
    "a = \"Hello, World!\"\n",
    "print(a.replace(\"H\", \"J\"))\n",
    "\n"
   ]
  },
  {
   "cell_type": "code",
   "execution_count": null,
   "id": "c01952ab-9467-4ce3-bd82-57f02843c973",
   "metadata": {},
   "outputs": [],
   "source": []
  }
 ],
 "metadata": {
  "kernelspec": {
   "display_name": "Python 3 (ipykernel)",
   "language": "python",
   "name": "python3"
  },
  "language_info": {
   "codemirror_mode": {
    "name": "ipython",
    "version": 3
   },
   "file_extension": ".py",
   "mimetype": "text/x-python",
   "name": "python",
   "nbconvert_exporter": "python",
   "pygments_lexer": "ipython3",
   "version": "3.12.7"
  }
 },
 "nbformat": 4,
 "nbformat_minor": 5
}
