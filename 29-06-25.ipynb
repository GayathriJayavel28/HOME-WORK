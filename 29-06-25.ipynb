{
 "cells": [
  {
   "cell_type": "code",
   "execution_count": null,
   "id": "ac4dc2b5-18b0-47d3-9295-94b651eb4d94",
   "metadata": {},
   "outputs": [],
   "source": []
  },
  {
   "cell_type": "code",
   "execution_count": 13,
   "id": "f92af3fe-7282-423e-958e-6367068c6595",
   "metadata": {},
   "outputs": [
    {
     "name": "stdin",
     "output_type": "stream",
     "text": [
      "type 0 for stone,type 1 for paper,type 2 for scissors 568\n"
     ]
    },
    {
     "name": "stdout",
     "output_type": "stream",
     "text": [
      "invalid\n"
     ]
    }
   ],
   "source": [
    "import random\n",
    "user_option=int(input('type 0 for stone,type 1 for paper,type 2 for scissors'))\n",
    "\n",
    "if user_option >=3 or user_option<0:\n",
    "    print(')\n",
    "else:\n",
    "    com_option=random.randint(0,2)\n",
    "    print('computer.chose:')\n",
    "    print(com_option)\n",
    "    \n",
    "    if user_option==com_option:\n",
    "        print('its a draw')\n",
    "    elif com_option ==0 and user_option ==2:\n",
    "        print('you lose')\n",
    "    elif com_option == 2 and user_option == 0:\n",
    "        print('you win')\n",
    "    elif com_option > user_option:\n",
    "        print('you lose')\n",
    "    elif com_option <user_option:\n",
    "        print('you win')\n"
   ]
  },
  {
   "cell_type": "code",
   "execution_count": null,
   "id": "34e18b28-e3ac-41d4-b628-826262d2abfe",
   "metadata": {},
   "outputs": [],
   "source": []
  },
  {
   "cell_type": "code",
   "execution_count": null,
   "id": "c43ec1d6-5611-4042-8d79-7621f9a49d08",
   "metadata": {},
   "outputs": [],
   "source": []
  },
  {
   "cell_type": "code",
   "execution_count": null,
   "id": "e1528a22-9877-41c8-89f6-5b4daf16236a",
   "metadata": {},
   "outputs": [],
   "source": []
  }
 ],
 "metadata": {
  "kernelspec": {
   "display_name": "Python 3 (ipykernel)",
   "language": "python",
   "name": "python3"
  },
  "language_info": {
   "codemirror_mode": {
    "name": "ipython",
    "version": 3
   },
   "file_extension": ".py",
   "mimetype": "text/x-python",
   "name": "python",
   "nbconvert_exporter": "python",
   "pygments_lexer": "ipython3",
   "version": "3.12.7"
  }
 },
 "nbformat": 4,
 "nbformat_minor": 5
}
