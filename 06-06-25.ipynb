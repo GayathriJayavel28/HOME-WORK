{
 "cells": [
  {
   "cell_type": "code",
   "execution_count": null,
   "id": "b48f3eff-cdac-4b5d-b163-4f1efe27c89e",
   "metadata": {},
   "outputs": [],
   "source": [
    "#operators\n",
    "ARITHMETIC OPERATORS \n",
    "ASSIGNMENT OPERATORS \n",
    "COMPARISON OPERATORS"
   ]
  },
  {
   "cell_type": "code",
   "execution_count": 2,
   "id": "7ffd76d8-4b39-40c4-a2fe-b06a30d22a51",
   "metadata": {},
   "outputs": [
    {
     "name": "stdout",
     "output_type": "stream",
     "text": [
      "59\n",
      "-9\n",
      "850\n",
      "0.7352941176470589\n",
      "25\n",
      "338813178901720135627329000271856784820556640625\n",
      "0\n"
     ]
    }
   ],
   "source": [
    "#arithmetic operator\n",
    "\n",
    "s=25\n",
    "g=34\n",
    "a=s+g     #addition\n",
    "print(a)\n",
    "\n",
    "a=s-g    #subtraction\n",
    "print(a)\n",
    "\n",
    "a=s*g     #multiplication\n",
    "print(a)\n",
    "\n",
    "a=s/g      #division\n",
    "print(a)\n",
    "\n",
    "a=s%g      #modulus\n",
    "print(a)\n",
    "\n",
    "a=s**g     #exponentiation\n",
    "print(a)\n",
    "\n",
    "a=s//g     #floor division\n",
    "print(a)"
   ]
  },
  {
   "cell_type": "code",
   "execution_count": 7,
   "id": "afe52402-53a2-4b47-b6af-d7e1af36785a",
   "metadata": {},
   "outputs": [
    {
     "name": "stdout",
     "output_type": "stream",
     "text": [
      "133\n",
      "128\n",
      "384\n",
      "32.0\n"
     ]
    }
   ],
   "source": [
    "#assignment operators\n",
    "\n",
    "s=123\n",
    "s+=10\n",
    "print(s)\n",
    "\n",
    "s-=5\n",
    "print(s)\n",
    "\n",
    "s*=3\n",
    "print(s)\n",
    "\n",
    "s/=12\n",
    "print(s)"
   ]
  },
  {
   "cell_type": "code",
   "execution_count": 9,
   "id": "4ec004fc-f899-403f-a0e2-66b4d5b83496",
   "metadata": {},
   "outputs": [
    {
     "name": "stdout",
     "output_type": "stream",
     "text": [
      "False\n",
      "True\n",
      "False\n",
      "True\n",
      "False\n",
      "True\n"
     ]
    }
   ],
   "source": [
    "#comparison operators\n",
    "\n",
    "s=100\n",
    "g=130\n",
    "print(s>g)\n",
    "print(s<g)\n",
    "print(s==g)\n",
    "print(s!=g)\n",
    "print(s>=g)\n",
    "print(s<=g)\n"
   ]
  },
  {
   "cell_type": "code",
   "execution_count": null,
   "id": "cc15aea1-3e47-4157-aa39-eee8a64a6a94",
   "metadata": {},
   "outputs": [],
   "source": []
  }
 ],
 "metadata": {
  "kernelspec": {
   "display_name": "Python 3 (ipykernel)",
   "language": "python",
   "name": "python3"
  },
  "language_info": {
   "codemirror_mode": {
    "name": "ipython",
    "version": 3
   },
   "file_extension": ".py",
   "mimetype": "text/x-python",
   "name": "python",
   "nbconvert_exporter": "python",
   "pygments_lexer": "ipython3",
   "version": "3.12.7"
  }
 },
 "nbformat": 4,
 "nbformat_minor": 5
}
